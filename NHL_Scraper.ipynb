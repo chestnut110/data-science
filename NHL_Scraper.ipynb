{
 "cells": [
  {
   "cell_type": "code",
   "execution_count": 23,
   "id": "8ba3dd70-4ccd-447f-9ebe-ba5bef258236",
   "metadata": {},
   "outputs": [],
   "source": [
    "import pandas as pd\n",
    "import datetime\n",
    "from random import randint\n",
    "from time import sleep\n",
    "import os\n",
    "import numpy as np"
   ]
  },
  {
   "cell_type": "code",
   "execution_count": 25,
   "id": "d3e85f4f-4b36-44c4-954b-7e663f5146e3",
   "metadata": {
    "scrolled": true
   },
   "outputs": [],
   "source": [
    "url = \"https://www.hockey-reference.com/leagues/NHL_2025_games.html\"\n",
    "dfs = pd.read_html(url)\n",
    "df = dfs[0]\n",
    "dates = pd.to_datetime(df['Date'], format=\"%Y-%m-%d\").dt.date\n",
    "dates = pd.Series(dates).drop_duplicates().tolist()"
   ]
  },
  {
   "cell_type": "code",
   "execution_count": 19,
   "id": "51388261-a7e8-4cfa-a26f-06378bcc1cea",
   "metadata": {},
   "outputs": [],
   "source": [
    "nhl_url = \"\"\n",
    "end_date = date.today()\n",
    "output_path = 'nhl_data.csv'\n",
    "\n",
    "for date in (dates):\n",
    "    # populate the nhl url with our dynamic date\n",
    "    nhl_url = f\"https://www.naturalstattrick.com/teamtable.php?fromseason=20242025&thruseason=20242025&stype=2&sit=ev&score=all&rate=y&team=all&loc=B&gpf=410&fd={date}&td={date}\"\n",
    "    # if the date is earlier or equal to end_date, proceed\n",
    "    if(date<=end_date):\n",
    "        nhl_dfs = pd.read_html(nhl_url, index_col=0)\n",
    "        nhl_df = nhl_dfs[0]\n",
    "         # add a Date column based on the current game date\n",
    "        nhl_df['Date'] = date\n",
    "        nhl_df.to_csv(output_path, mode='a', header = not os.path.exists(output_path), index = False)\n",
    "        sleep(randint(10,25))"
   ]
  },
  {
   "cell_type": "code",
   "execution_count": 21,
   "id": "d95d729b-035c-49bb-a740-ee419391d44e",
   "metadata": {},
   "outputs": [],
   "source": [
    "output_path2 = 'player_data.csv'\n",
    "\n",
    "for date in (dates):\n",
    "        # populate the nhl url with our dynamic date\n",
    "        skater_url = f\"https://www.naturalstattrick.com/playerteams.php?fromseason=20242025&thruseason=20242025&stype=2&sit=5v5&score=all&stdoi=std&rate=n&team=ALL&pos=S&loc=B&toi=0&gpfilt=gpdate&fd={date}&td={date}&tgp=410&lines=single&draftteam=ALL\"\n",
    "        # if the date is earlier or equal to end_date, proceed\n",
    "        if(date<=end_date):\n",
    "            skater_dfs = pd.read_html(skater_url, index_col=0)\n",
    "            skater_df = skater_dfs[0]\n",
    "            # add a Date column based on the current game date\n",
    "            skater_df['Date'] = date\n",
    "            skater_df.to_csv(output_path2, mode='a', header = not os.path.exists(output_path2), index = False)\n",
    "            sleep(randint(10,25))\n",
    "            # add a Fantasy Points column based on VHP 24/25 scoring\n",
    "            skater_df['Fantasy Points'] = (skater_df['Goals'] * 4) + (skater_df['Total Assists'] * 2) + (skater_df['Total Assists'] * 2)"
   ]
  },
  {
   "cell_type": "code",
   "execution_count": 27,
   "id": "7eea3fd6-c86a-4b2a-b9cb-0b5ea37f7d2d",
   "metadata": {},
   "outputs": [
    {
     "name": "stdout",
     "output_type": "stream",
     "text": [
      "<class 'pandas.core.frame.DataFrame'>\n",
      "Index: 0 entries\n",
      "Data columns (total 35 columns):\n",
      " #   Column            Non-Null Count  Dtype \n",
      "---  ------            --------------  ----- \n",
      " 0   Player            0 non-null      object\n",
      " 1   Team              0 non-null      object\n",
      " 2   Position          0 non-null      object\n",
      " 3   GP                0 non-null      object\n",
      " 4   TOI               0 non-null      object\n",
      " 5   Goals             0 non-null      object\n",
      " 6   Total Assists     0 non-null      object\n",
      " 7   First Assists     0 non-null      object\n",
      " 8   Second Assists    0 non-null      object\n",
      " 9   Total Points      0 non-null      object\n",
      " 10  IPP               0 non-null      object\n",
      " 11  Shots             0 non-null      object\n",
      " 12  SH%               0 non-null      object\n",
      " 13  ixG               0 non-null      object\n",
      " 14  iCF               0 non-null      object\n",
      " 15  iFF               0 non-null      object\n",
      " 16  iSCF              0 non-null      object\n",
      " 17  iHDCF             0 non-null      object\n",
      " 18  Rush Attempts     0 non-null      object\n",
      " 19  Rebounds Created  0 non-null      object\n",
      " 20  PIM               0 non-null      object\n",
      " 21  Total Penalties   0 non-null      object\n",
      " 22  Minor             0 non-null      object\n",
      " 23  Major             0 non-null      object\n",
      " 24  Misconduct        0 non-null      object\n",
      " 25  Penalties Drawn   0 non-null      object\n",
      " 26  Giveaways         0 non-null      object\n",
      " 27  Takeaways         0 non-null      object\n",
      " 28  Hits              0 non-null      object\n",
      " 29  Hits Taken        0 non-null      object\n",
      " 30  Shots Blocked     0 non-null      object\n",
      " 31  Faceoffs Won      0 non-null      object\n",
      " 32  Faceoffs Lost     0 non-null      object\n",
      " 33  Faceoffs %        0 non-null      object\n",
      " 34  Date              0 non-null      object\n",
      "dtypes: object(35)\n",
      "memory usage: 0.0+ bytes\n"
     ]
    }
   ],
   "source": [
    "skater_df.info()"
   ]
  }
 ],
 "metadata": {
  "kernelspec": {
   "display_name": "Python 3 (ipykernel)",
   "language": "python",
   "name": "python3"
  },
  "language_info": {
   "codemirror_mode": {
    "name": "ipython",
    "version": 3
   },
   "file_extension": ".py",
   "mimetype": "text/x-python",
   "name": "python",
   "nbconvert_exporter": "python",
   "pygments_lexer": "ipython3",
   "version": "3.12.4"
  }
 },
 "nbformat": 4,
 "nbformat_minor": 5
}
